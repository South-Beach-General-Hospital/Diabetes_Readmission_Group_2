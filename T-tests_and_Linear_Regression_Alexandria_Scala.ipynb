{
 "cells": [
  {
   "cell_type": "markdown",
   "metadata": {},
   "source": [
    "# Importing packages and dataset"
   ]
  },
  {
   "cell_type": "code",
   "execution_count": 136,
   "metadata": {},
   "outputs": [],
   "source": [
    "#T-test\n",
    "import pandas as pd\n",
    "import scipy.stats as stats"
   ]
  },
  {
   "cell_type": "code",
   "execution_count": 137,
   "metadata": {},
   "outputs": [],
   "source": [
    "df=pd.read_csv('group_data.csv')"
   ]
  },
  {
   "cell_type": "markdown",
   "metadata": {},
   "source": [
    "# T-test Setup"
   ]
  },
  {
   "cell_type": "markdown",
   "metadata": {},
   "source": [
    "##### Isolating columns and defining them as variables"
   ]
  },
  {
   "cell_type": "code",
   "execution_count": 138,
   "metadata": {},
   "outputs": [],
   "source": [
    "number_meds=df.iloc[:,12]\n",
    "race_eth=df.iloc[:,0]\n",
    "age=df.iloc[:,2]\n",
    "LOS=df.iloc[:,7]\n",
    "readmissions=df.iloc[:,22]\n",
    "discharge_disposition=df.iloc[:,4]"
   ]
  },
  {
   "cell_type": "markdown",
   "metadata": {},
   "source": [
    "##### Replacing strings in each column with representative variables"
   ]
  },
  {
   "cell_type": "code",
   "execution_count": 139,
   "metadata": {},
   "outputs": [],
   "source": [
    "#race/ethnicity\n",
    "race_eth2=race_eth.replace({\n",
    "    \"African American\":int(1),\n",
    "    \"Asian\":int(2),\n",
    "    \"Caucasian\":int(3),\n",
    "    \"Hispanic\":int(4),\n",
    "    \"Null\":int(5),\n",
    "    \"Other\":int(6),\n",
    "})"
   ]
  },
  {
   "cell_type": "code",
   "execution_count": 140,
   "metadata": {},
   "outputs": [],
   "source": [
    "#age\n",
    "age2=age.replace({\n",
    "    \"[0-10)\":int(1),\n",
    "    \"[10-20)\":int(2),\n",
    "    \"[20-30)\":int(3),\n",
    "    \"[30-40)\":int(4),\n",
    "    \"[40-50)\":int(5),\n",
    "    \"[50-60)\":int(6),\n",
    "    \"[60-70)\":int(7),\n",
    "    \"[70-80)\":int(8),\n",
    "    \"[80-90)\":int(9),\n",
    "    \"[90-100)\":int(10)\n",
    "})"
   ]
  },
  {
   "cell_type": "code",
   "execution_count": 141,
   "metadata": {},
   "outputs": [],
   "source": [
    "#readmissions\n",
    "readmissions2=readmissions.replace({\n",
    "    \">30\":int(1),\n",
    "    \"<30\":int(2),\n",
    "    \"No\":int(3)\n",
    "})"
   ]
  },
  {
   "cell_type": "code",
   "execution_count": 142,
   "metadata": {},
   "outputs": [
    {
     "name": "stdout",
     "output_type": "stream",
     "text": [
      "<class 'pandas.core.frame.DataFrame'>\n",
      "RangeIndex: 101766 entries, 0 to 101765\n",
      "Data columns (total 23 columns):\n",
      " #   Column                    Non-Null Count   Dtype  \n",
      "---  ------                    --------------   -----  \n",
      " 0   ethnicity/race            101766 non-null  object \n",
      " 1   sex                       101766 non-null  object \n",
      " 2   age                       101766 non-null  object \n",
      " 3   admission_type_id         101766 non-null  int64  \n",
      " 4   discharge_disposition_id  101766 non-null  int64  \n",
      " 5   admission_source_id       101766 non-null  int64  \n",
      " 6   Unnamed: 6                0 non-null       float64\n",
      " 7   LOS                       101766 non-null  int64  \n",
      " 8   payer_code                101766 non-null  object \n",
      " 9   medical_specialty         101766 non-null  object \n",
      " 10  num_lab_procedures        101766 non-null  int64  \n",
      " 11  num_procedures            101766 non-null  int64  \n",
      " 12  num_medications           101766 non-null  int64  \n",
      " 13  number_outpatient         101766 non-null  int64  \n",
      " 14  number_emergency          101766 non-null  int64  \n",
      " 15  number_inpatient          101766 non-null  int64  \n",
      " 16  number_diagnoses          101766 non-null  int64  \n",
      " 17  max_glu_serum             101766 non-null  object \n",
      " 18  metformin                 101766 non-null  object \n",
      " 19  insulin                   101766 non-null  object \n",
      " 20  diabetes_med              101766 non-null  object \n",
      " 21  diabetes_med_change       101766 non-null  object \n",
      " 22  readmitted                101766 non-null  object \n",
      "dtypes: float64(1), int64(11), object(11)\n",
      "memory usage: 17.9+ MB\n"
     ]
    }
   ],
   "source": [
    "df.info()"
   ]
  },
  {
   "cell_type": "markdown",
   "metadata": {},
   "source": [
    "# Running the t-tests"
   ]
  },
  {
   "cell_type": "markdown",
   "metadata": {},
   "source": [
    "##### T-tests help determine whether there is a significant difference between the groups or if the groups are similar. Through this we can interpret if the two columns are correleated. The null hypothesis in the case of this dataset is that there is no difference or correlation between the two groups. For this dataset the p-value came out to zero for all of the value comparisons, so we reject the null hypothesis, concluding that there is significant differences and no correlation for each of the variables."
   ]
  },
  {
   "cell_type": "markdown",
   "metadata": {},
   "source": [
    "### Variable 1: Number of medications"
   ]
  },
  {
   "cell_type": "markdown",
   "metadata": {},
   "source": [
    "#### As compared to ethnicity/race"
   ]
  },
  {
   "cell_type": "code",
   "execution_count": 143,
   "metadata": {},
   "outputs": [
    {
     "data": {
      "text/plain": [
       "Ttest_indResult(statistic=518.2632769123827, pvalue=0.0)"
      ]
     },
     "execution_count": 143,
     "metadata": {},
     "output_type": "execute_result"
    }
   ],
   "source": [
    "stats.ttest_ind(number_meds,race_eth2)"
   ]
  },
  {
   "cell_type": "markdown",
   "metadata": {},
   "source": [
    "#### As compared to age"
   ]
  },
  {
   "cell_type": "code",
   "execution_count": 144,
   "metadata": {},
   "outputs": [
    {
     "data": {
      "text/plain": [
       "Ttest_indResult(statistic=343.7631978806828, pvalue=0.0)"
      ]
     },
     "execution_count": 144,
     "metadata": {},
     "output_type": "execute_result"
    }
   ],
   "source": [
    "stats.ttest_ind(number_meds,age2)"
   ]
  },
  {
   "cell_type": "markdown",
   "metadata": {},
   "source": [
    "### Variable 2: Length of stay"
   ]
  },
  {
   "cell_type": "markdown",
   "metadata": {},
   "source": [
    "#### As compared to ethnicity/race"
   ]
  },
  {
   "cell_type": "code",
   "execution_count": 145,
   "metadata": {},
   "outputs": [
    {
     "data": {
      "text/plain": [
       "Ttest_indResult(statistic=169.91304837415873, pvalue=0.0)"
      ]
     },
     "execution_count": 145,
     "metadata": {},
     "output_type": "execute_result"
    }
   ],
   "source": [
    "stats.ttest_ind(LOS,race_eth2)"
   ]
  },
  {
   "cell_type": "markdown",
   "metadata": {},
   "source": [
    "#### As compared to age"
   ]
  },
  {
   "cell_type": "code",
   "execution_count": 146,
   "metadata": {},
   "outputs": [
    {
     "data": {
      "text/plain": [
       "Ttest_indResult(statistic=-254.58923700359645, pvalue=0.0)"
      ]
     },
     "execution_count": 146,
     "metadata": {},
     "output_type": "execute_result"
    }
   ],
   "source": [
    "stats.ttest_ind(LOS,age2)"
   ]
  },
  {
   "cell_type": "markdown",
   "metadata": {},
   "source": [
    "### Variable 3: Readmission Rates"
   ]
  },
  {
   "cell_type": "markdown",
   "metadata": {},
   "source": [
    "#### As compared to ethnicity/race"
   ]
  },
  {
   "cell_type": "code",
   "execution_count": 147,
   "metadata": {},
   "outputs": [
    {
     "data": {
      "text/plain": [
       "Ttest_indResult(statistic=-127.99217334121776, pvalue=0.0)"
      ]
     },
     "execution_count": 147,
     "metadata": {},
     "output_type": "execute_result"
    }
   ],
   "source": [
    "stats.ttest_ind(readmissions2,race_eth2)"
   ]
  },
  {
   "cell_type": "markdown",
   "metadata": {},
   "source": [
    "#### As compared to age"
   ]
  },
  {
   "cell_type": "code",
   "execution_count": 148,
   "metadata": {},
   "outputs": [
    {
     "data": {
      "text/plain": [
       "Ttest_indResult(statistic=-849.7343551871595, pvalue=0.0)"
      ]
     },
     "execution_count": 148,
     "metadata": {},
     "output_type": "execute_result"
    }
   ],
   "source": [
    "stats.ttest_ind(readmissions2,age2)"
   ]
  },
  {
   "cell_type": "markdown",
   "metadata": {},
   "source": [
    "#### As compared to discharge disposition"
   ]
  },
  {
   "cell_type": "code",
   "execution_count": 149,
   "metadata": {},
   "outputs": [
    {
     "data": {
      "text/plain": [
       "Ttest_indResult(statistic=-90.80574716134892, pvalue=0.0)"
      ]
     },
     "execution_count": 149,
     "metadata": {},
     "output_type": "execute_result"
    }
   ],
   "source": [
    "stats.ttest_ind(readmissions2,discharge_disposition)"
   ]
  },
  {
   "cell_type": "markdown",
   "metadata": {},
   "source": [
    "# Linear Regression"
   ]
  },
  {
   "cell_type": "code",
   "execution_count": 194,
   "metadata": {},
   "outputs": [],
   "source": [
    "import matplotlib.pyplot as plt\n",
    "import numpy as np\n",
    "from sklearn import datasets, linear_model\n",
    "from sklearn.metrics import mean_squared_error, r2_score\n",
    "from sklearn.model_selection import train_test_split\n",
    "from sklearn.datasets import load_iris\n",
    "from sklearn.linear_model import LinearRegression"
   ]
  },
  {
   "cell_type": "markdown",
   "metadata": {},
   "source": [
    "### Variable 1: Number of medications"
   ]
  },
  {
   "cell_type": "markdown",
   "metadata": {},
   "source": [
    "#### As compared to race/ethnicity"
   ]
  },
  {
   "cell_type": "code",
   "execution_count": 195,
   "metadata": {},
   "outputs": [],
   "source": [
    "X=np.array([number_meds]).reshape((-1,1))\n",
    "y=np.array([race_eth2]).reshape((-1,1))"
   ]
  },
  {
   "cell_type": "code",
   "execution_count": 196,
   "metadata": {},
   "outputs": [],
   "source": [
    "model = LinearRegression().fit(X, y)"
   ]
  },
  {
   "cell_type": "code",
   "execution_count": 197,
   "metadata": {},
   "outputs": [
    {
     "name": "stdout",
     "output_type": "stream",
     "text": [
      "coefficient of determination: 0.0005132333878352657\n"
     ]
    }
   ],
   "source": [
    "r_sq = model.score(X, y)\n",
    "print('coefficient of determination:', r_sq)"
   ]
  },
  {
   "cell_type": "code",
   "execution_count": 198,
   "metadata": {},
   "outputs": [
    {
     "name": "stdout",
     "output_type": "stream",
     "text": [
      "intercept: [2.68222071]\n"
     ]
    }
   ],
   "source": [
    "print('intercept:', model.intercept_)"
   ]
  },
  {
   "cell_type": "code",
   "execution_count": 199,
   "metadata": {},
   "outputs": [
    {
     "name": "stdout",
     "output_type": "stream",
     "text": [
      "slope: [[0.00268579]]\n"
     ]
    }
   ],
   "source": [
    "print('slope:', model.coef_)"
   ]
  },
  {
   "cell_type": "code",
   "execution_count": 200,
   "metadata": {},
   "outputs": [
    {
     "name": "stdout",
     "output_type": "stream",
     "text": [
      "predicted response:\n",
      "[[2.72787917]\n",
      " [2.74667972]\n",
      " [2.70639284]\n",
      " ...\n",
      " [2.70639284]\n",
      " [2.73056496]\n",
      " [2.69296388]]\n"
     ]
    }
   ],
   "source": [
    "y_pred = model.predict(X)\n",
    "print('predicted response:', y_pred, sep='\\n')"
   ]
  },
  {
   "cell_type": "markdown",
   "metadata": {},
   "source": [
    "#### As compared to age"
   ]
  },
  {
   "cell_type": "code",
   "execution_count": 201,
   "metadata": {},
   "outputs": [],
   "source": [
    "y2=np.array([age2]).reshape((-1,1))"
   ]
  },
  {
   "cell_type": "code",
   "execution_count": 202,
   "metadata": {},
   "outputs": [],
   "source": [
    "model2 = LinearRegression().fit(X, y2)"
   ]
  },
  {
   "cell_type": "code",
   "execution_count": 203,
   "metadata": {},
   "outputs": [
    {
     "name": "stdout",
     "output_type": "stream",
     "text": [
      "coefficient of determination: 0.0017511737644607672\n"
     ]
    }
   ],
   "source": [
    "r_sq2 = model2.score(X, y2)\n",
    "print('coefficient of determination:', r_sq2)"
   ]
  },
  {
   "cell_type": "code",
   "execution_count": 204,
   "metadata": {},
   "outputs": [
    {
     "name": "stdout",
     "output_type": "stream",
     "text": [
      "intercept: [6.96520163]\n"
     ]
    }
   ],
   "source": [
    "print('intercept:', model2.intercept_)"
   ]
  },
  {
   "cell_type": "code",
   "execution_count": 205,
   "metadata": {},
   "outputs": [
    {
     "name": "stdout",
     "output_type": "stream",
     "text": [
      "slope: [[0.00820758]]\n"
     ]
    }
   ],
   "source": [
    "print('slope:', model2.coef_)"
   ]
  },
  {
   "cell_type": "code",
   "execution_count": 206,
   "metadata": {},
   "outputs": [
    {
     "name": "stdout",
     "output_type": "stream",
     "text": [
      "predicted response:\n",
      "[[7.10473053]\n",
      " [7.16218361]\n",
      " [7.03906987]\n",
      " ...\n",
      " [7.03906987]\n",
      " [7.11293811]\n",
      " [6.99803196]]\n"
     ]
    }
   ],
   "source": [
    "y2_pred = model2.predict(X)\n",
    "print('predicted response:', y2_pred, sep='\\n')"
   ]
  },
  {
   "cell_type": "markdown",
   "metadata": {},
   "source": [
    "### Variable 2: Length of Stay"
   ]
  },
  {
   "cell_type": "markdown",
   "metadata": {},
   "source": [
    "#### As compared to race/ethnicity"
   ]
  },
  {
   "cell_type": "code",
   "execution_count": 210,
   "metadata": {},
   "outputs": [],
   "source": [
    "X2=np.array([LOS]).reshape((-1,1))"
   ]
  },
  {
   "cell_type": "code",
   "execution_count": 211,
   "metadata": {},
   "outputs": [],
   "source": [
    "model3 = LinearRegression().fit(X2, y)"
   ]
  },
  {
   "cell_type": "code",
   "execution_count": 212,
   "metadata": {},
   "outputs": [
    {
     "name": "stdout",
     "output_type": "stream",
     "text": [
      "coefficient of determination: 0.0003876686533235141\n"
     ]
    }
   ],
   "source": [
    "r_sq3 = model3.score(X2, y)\n",
    "print('coefficient of determination:', r_sq3)"
   ]
  },
  {
   "cell_type": "code",
   "execution_count": 213,
   "metadata": {},
   "outputs": [
    {
     "name": "stdout",
     "output_type": "stream",
     "text": [
      "intercept: [2.75319049]\n"
     ]
    }
   ],
   "source": [
    "print('intercept:', model3.intercept_)"
   ]
  },
  {
   "cell_type": "code",
   "execution_count": 214,
   "metadata": {},
   "outputs": [
    {
     "name": "stdout",
     "output_type": "stream",
     "text": [
      "slope: [[-0.00635544]]\n"
     ]
    }
   ],
   "source": [
    "print('slope:', model3.coef_)"
   ]
  },
  {
   "cell_type": "code",
   "execution_count": 216,
   "metadata": {},
   "outputs": [
    {
     "name": "stdout",
     "output_type": "stream",
     "text": [
      "predicted response:\n",
      "[[2.72776872]\n",
      " [2.74683505]\n",
      " [2.72776872]\n",
      " ...\n",
      " [2.72776872]\n",
      " [2.74683505]\n",
      " [2.73412416]]\n"
     ]
    }
   ],
   "source": [
    "y3_pred = model3.predict(X2)\n",
    "print('predicted response:', y3_pred, sep='\\n')"
   ]
  },
  {
   "cell_type": "markdown",
   "metadata": {},
   "source": [
    "#### As compared to age"
   ]
  },
  {
   "cell_type": "code",
   "execution_count": 217,
   "metadata": {},
   "outputs": [],
   "source": [
    "model4 = LinearRegression().fit(X2, y2)"
   ]
  },
  {
   "cell_type": "code",
   "execution_count": 218,
   "metadata": {},
   "outputs": [
    {
     "name": "stdout",
     "output_type": "stream",
     "text": [
      "coefficient of determination: 0.011559457021110608\n"
     ]
    }
   ],
   "source": [
    "r_sq4 = model4.score(X2, y2)\n",
    "print('coefficient of determination:', r_sq4)"
   ]
  },
  {
   "cell_type": "code",
   "execution_count": 219,
   "metadata": {},
   "outputs": [
    {
     "name": "stdout",
     "output_type": "stream",
     "text": [
      "intercept: [6.84430986]\n"
     ]
    }
   ],
   "source": [
    "print('intercept:', model4.intercept_)"
   ]
  },
  {
   "cell_type": "code",
   "execution_count": 220,
   "metadata": {},
   "outputs": [
    {
     "name": "stdout",
     "output_type": "stream",
     "text": [
      "slope: [[0.05741427]]\n"
     ]
    }
   ],
   "source": [
    "print('slope:', model4.coef_)"
   ]
  },
  {
   "cell_type": "code",
   "execution_count": 221,
   "metadata": {},
   "outputs": [
    {
     "name": "stdout",
     "output_type": "stream",
     "text": [
      "predicted response:\n",
      "[[7.07396694]\n",
      " [6.90172413]\n",
      " [7.07396694]\n",
      " ...\n",
      " [7.07396694]\n",
      " [6.90172413]\n",
      " [7.01655267]]\n"
     ]
    }
   ],
   "source": [
    "y4_pred = model4.predict(X2)\n",
    "print('predicted response:', y4_pred, sep='\\n')"
   ]
  },
  {
   "cell_type": "markdown",
   "metadata": {},
   "source": [
    "### Variable 3: Readmissions"
   ]
  },
  {
   "cell_type": "markdown",
   "metadata": {},
   "source": [
    "#### As compared to race/ethnicity"
   ]
  },
  {
   "cell_type": "code",
   "execution_count": 222,
   "metadata": {},
   "outputs": [],
   "source": [
    "X3=np.array([readmissions2]).reshape((-1,1))"
   ]
  },
  {
   "cell_type": "code",
   "execution_count": 223,
   "metadata": {},
   "outputs": [],
   "source": [
    "model5 = LinearRegression().fit(X3, y)"
   ]
  },
  {
   "cell_type": "code",
   "execution_count": 224,
   "metadata": {},
   "outputs": [
    {
     "name": "stdout",
     "output_type": "stream",
     "text": [
      "coefficient of determination: 0.00025507829840432095\n"
     ]
    }
   ],
   "source": [
    "r_sq5 = model5.score(X3, y)\n",
    "print('coefficient of determination:', r_sq5)"
   ]
  },
  {
   "cell_type": "code",
   "execution_count": 225,
   "metadata": {},
   "outputs": [
    {
     "name": "stdout",
     "output_type": "stream",
     "text": [
      "intercept: [2.68875063]\n"
     ]
    }
   ],
   "source": [
    "print('intercept:', model5.intercept_)"
   ]
  },
  {
   "cell_type": "code",
   "execution_count": 226,
   "metadata": {},
   "outputs": [
    {
     "name": "stdout",
     "output_type": "stream",
     "text": [
      "slope: [[0.01666855]]\n"
     ]
    }
   ],
   "source": [
    "print('slope:', model5.coef_)"
   ]
  },
  {
   "cell_type": "code",
   "execution_count": 227,
   "metadata": {},
   "outputs": [
    {
     "name": "stdout",
     "output_type": "stream",
     "text": [
      "predicted response:\n",
      "[[2.70541918]\n",
      " [2.73875628]\n",
      " [2.70541918]\n",
      " ...\n",
      " [2.73875628]\n",
      " [2.73875628]\n",
      " [2.70541918]]\n"
     ]
    }
   ],
   "source": [
    "y5_pred = model5.predict(X3)\n",
    "print('predicted response:', y5_pred, sep='\\n')"
   ]
  },
  {
   "cell_type": "markdown",
   "metadata": {},
   "source": [
    "#### As compared to age"
   ]
  },
  {
   "cell_type": "code",
   "execution_count": 228,
   "metadata": {},
   "outputs": [],
   "source": [
    "model6 = LinearRegression().fit(X3, y2)"
   ]
  },
  {
   "cell_type": "code",
   "execution_count": 229,
   "metadata": {},
   "outputs": [
    {
     "name": "stdout",
     "output_type": "stream",
     "text": [
      "coefficient of determination: 0.0007190859847027165\n"
     ]
    }
   ],
   "source": [
    "r_sq6 = model6.score(X3, y2)\n",
    "print('coefficient of determination:', r_sq6)"
   ]
  },
  {
   "cell_type": "code",
   "execution_count": 230,
   "metadata": {},
   "outputs": [
    {
     "name": "stdout",
     "output_type": "stream",
     "text": [
      "intercept: [7.19809317]\n",
      "slope: [[-0.04630067]]\n"
     ]
    }
   ],
   "source": [
    "print('intercept:', model6.intercept_)\n",
    "print('slope:', model6.coef_)"
   ]
  },
  {
   "cell_type": "code",
   "execution_count": 231,
   "metadata": {},
   "outputs": [
    {
     "name": "stdout",
     "output_type": "stream",
     "text": [
      "predicted response:\n",
      "[[7.1517925 ]\n",
      " [7.05919117]\n",
      " [7.1517925 ]\n",
      " ...\n",
      " [7.05919117]\n",
      " [7.05919117]\n",
      " [7.1517925 ]]\n"
     ]
    }
   ],
   "source": [
    "y6_pred = model6.predict(X3)\n",
    "print('predicted response:', y6_pred, sep='\\n')"
   ]
  },
  {
   "cell_type": "markdown",
   "metadata": {},
   "source": [
    "#### As compared to discharge disposition"
   ]
  },
  {
   "cell_type": "code",
   "execution_count": 232,
   "metadata": {},
   "outputs": [],
   "source": [
    "y3=np.array([discharge_disposition]).reshape((-1,1))"
   ]
  },
  {
   "cell_type": "code",
   "execution_count": 233,
   "metadata": {},
   "outputs": [],
   "source": [
    "model7 = LinearRegression().fit(X3, y3)"
   ]
  },
  {
   "cell_type": "code",
   "execution_count": 234,
   "metadata": {},
   "outputs": [
    {
     "name": "stdout",
     "output_type": "stream",
     "text": [
      "coefficient of determination: -0.41011004132757023\n"
     ]
    }
   ],
   "source": [
    "r_sq7 = model6.score(X3, y3)\n",
    "print('coefficient of determination:', r_sq7)"
   ]
  },
  {
   "cell_type": "code",
   "execution_count": 235,
   "metadata": {},
   "outputs": [
    {
     "name": "stdout",
     "output_type": "stream",
     "text": [
      "intercept: [3.70401577]\n",
      "slope: [[0.00530907]]\n"
     ]
    }
   ],
   "source": [
    "print('intercept:', model7.intercept_)\n",
    "print('slope:', model7.coef_)"
   ]
  },
  {
   "cell_type": "code",
   "execution_count": 236,
   "metadata": {},
   "outputs": [
    {
     "name": "stdout",
     "output_type": "stream",
     "text": [
      "predicted response:\n",
      "[[3.70932484]\n",
      " [3.71994297]\n",
      " [3.70932484]\n",
      " ...\n",
      " [3.71994297]\n",
      " [3.71994297]\n",
      " [3.70932484]]\n"
     ]
    }
   ],
   "source": [
    "y7_pred = model7.predict(X3)\n",
    "print('predicted response:', y7_pred, sep='\\n')"
   ]
  }
 ],
 "metadata": {
  "kernelspec": {
   "display_name": "Python 3",
   "language": "python",
   "name": "python3"
  },
  "language_info": {
   "codemirror_mode": {
    "name": "ipython",
    "version": 3
   },
   "file_extension": ".py",
   "mimetype": "text/x-python",
   "name": "python",
   "nbconvert_exporter": "python",
   "pygments_lexer": "ipython3",
   "version": "3.8.5"
  }
 },
 "nbformat": 4,
 "nbformat_minor": 4
}
