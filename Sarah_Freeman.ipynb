{
  "nbformat": 4,
  "nbformat_minor": 0,
  "metadata": {
    "anaconda-cloud": {},
    "colab": {
      "name": "MachineLearning.ipynb",
      "private_outputs": true,
      "provenance": [],
      "include_colab_link": true
    },
    "kernelspec": {
      "display_name": "Python 3",
      "language": "python",
      "name": "python3"
    },
    "language_info": {
      "codemirror_mode": {
        "name": "ipython",
        "version": 3
      },
      "file_extension": ".py",
      "mimetype": "text/x-python",
      "name": "python",
      "nbconvert_exporter": "python",
      "pygments_lexer": "ipython3",
      "version": "3.8.5"
    }
  },
  "cells": [
    {
      "cell_type": "markdown",
      "metadata": {
        "id": "view-in-github",
        "colab_type": "text"
      },
      "source": [
        "<a href=\"https://colab.research.google.com/github/South-Beach-General-Hospital/Diabetes_Readmission_Group_2/blob/main/Sarah_Freeman.ipynb\" target=\"_parent\"><img src=\"https://colab.research.google.com/assets/colab-badge.svg\" alt=\"Open In Colab\"/></a>"
      ]
    },
    {
      "cell_type": "code",
      "metadata": {
        "id": "Sh4TAk5unaXZ"
      },
      "source": [
        "import numpy as np\n",
        "import pandas as pd\n",
        "import matplotlib.pyplot as plt\n",
        "from sklearn.model_selection import train_test_split\n",
        "from sklearn.datasets import load_iris\n",
        "from sklearn.cluster import KMeans\n",
        "from sklearn.preprocessing import StandardScaler, normalize\n",
        "from sklearn.metrics import silhouette_score"
      ],
      "execution_count": null,
      "outputs": []
    },
    {
      "cell_type": "code",
      "metadata": {
        "id": "0Gpb0e7BnpKy"
      },
      "source": [
        "#linear algebra\n",
        "import numpy as np\n",
        "\n",
        "#data processing\n",
        "import pandas as pd\n",
        "\n",
        "#splitting data\n",
        "from sklearn.model_selection import train_test_split\n",
        "\n",
        "#scaling\n",
        "from sklearn.preprocessing import StandardScaler\n",
        "\n",
        "#tuning\n",
        "from sklearn.model_selection import RandomizedSearchCV\n",
        "\n",
        "#model evaluation\n",
        "from sklearn import metrics"
      ],
      "execution_count": null,
      "outputs": []
    },
    {
      "cell_type": "code",
      "metadata": {
        "id": "XHl4eZHLnshr"
      },
      "source": [
        "#importing data\n",
        "df = pd.read_csv('csv_diabetic_data_cleaned.csv')"
      ],
      "execution_count": null,
      "outputs": []
    },
    {
      "cell_type": "code",
      "metadata": {
        "id": "aPLGCsAApNKH"
      },
      "source": [
        "df.info()"
      ],
      "execution_count": null,
      "outputs": []
    },
    {
      "cell_type": "code",
      "metadata": {
        "id": "YfACqxOcpb1V",
        "scrolled": true
      },
      "source": [
        "df.isna().sum()"
      ],
      "execution_count": null,
      "outputs": []
    },
    {
      "cell_type": "code",
      "metadata": {
        "id": "Z2MS0fvT0DeE"
      },
      "source": [
        "#isolating columns and defining them as variables\n",
        "ethnicity=df.iloc[:,0]\n",
        "sex=df.iloc[:,1]\n",
        "age=df.iloc[:,2]\n",
        "admissions_type_id=df.iloc[:,3]\n",
        "discharge_disposition_id=df.iloc[:,4]\n",
        "admission_source_id=df.iloc[:,5]\n",
        "LOS=df.iloc[:,6]\n",
        "medical_speciality=df.iloc[:,7]\n",
        "num_lab_procedures =df.iloc[:,8]\n",
        "num_procedures=df.iloc[:,9]         \n",
        "num_medications=df.iloc[:,10]\n",
        "number_outpatient=df.iloc[:,11]\n",
        "number_emergency=df.iloc[:,12]\n",
        "number_inpatient=df.iloc[:,13]\n",
        "number_diagnoses=df.iloc[:,14]    \n",
        "max_glucose=df.iloc[:,15]\n",
        "metform=df.iloc[:,16]\n",
        "insulin=df.iloc[:,17]\n",
        "diabetes_med=df.iloc[:,18]\n",
        "diabetes_med_change=df.iloc[:,19]\n",
        "readmitted=df.iloc[:,20]"
      ],
      "execution_count": null,
      "outputs": []
    },
    {
      "cell_type": "code",
      "metadata": {
        "id": "U29QZIT90DeE"
      },
      "source": [
        "#convert string\n",
        "\n",
        "#ethnicity/race\n",
        "df['ethnicity'] = df['ethnicity'].map({\n",
        "    'Caucasian':int(5),\n",
        "    'African American':int(4), \n",
        "    'Hispanic':int(3),\n",
        "    'Asian':int(2), \n",
        "    'Other':int(1), \n",
        "    'Null':int(0)})\n",
        "\n",
        "#sex\n",
        "df['sex'] = df['sex'].map({\n",
        "    'Male' :int(2),\n",
        "    'Female' :int(1),\n",
        "    'Unknown/Invalid' :int(0),})\n",
        "\n",
        "#age\n",
        "df['age'] = df['age'].map({\n",
        "    '[90-100)':int(9),\n",
        "    '[80-90)':int(8), \n",
        "    '[70-80)':int(7),\n",
        "    '[60-70)':int(6), \n",
        "    '[50-60)':int(5),\n",
        "    '[40-50)':int(4),\n",
        "    '[30-40)':int(3), \n",
        "    '[20-30)':int(2),\n",
        "    '[10-20)':int(1), \n",
        "    '[0-10)':int(0)})\n",
        "\n",
        "#medical_specialty\n",
        "df['medical_specialty'] = df['medical_specialty'].map({\n",
        "'Allergy and Immunology':int(71),\n",
        "'Anesthesiology':int(70),\n",
        "'Anesthesiology-Pediatric':int(69),\n",
        "'Cardiology':int(68),\n",
        "'Cardiology-Pediatric':int(67),\n",
        "'DCPTEAM':int(66),\n",
        "'Dentistry':int(65),\n",
        "'Dermatology':int(64),\n",
        "'Emergency/Trauma':int(63),\n",
        "'Endocrinology':int(62),\n",
        "'Endocrinology-Metabolism':int(61),\n",
        "'Family/General Practice':int(60),\n",
        "'Gastroenterology':int(59),\n",
        "'Gynecology':int(58),\n",
        "'Hematology':int(57),\n",
        "'Hematology/Oncology':int(56),\n",
        "'Hospitalist':int(55),\n",
        "'Infectious Diseases':int(54),\n",
        "'Internal Medicine':int(53),\n",
        "'Nephrology':int(52),\n",
        "'Neurology':int(51),\n",
        "'Neurophysiology':int(50),\n",
        "'Obsterics & Gynecology-Gynecologic Onco':int(49),\n",
        "'Obstetrics':int(48),\n",
        "'Obstetrics and Gynecology':int(47),\n",
        "'Oncology':int(46),\n",
        "'Ophthalmology':int(45),\n",
        "'Orthopedics':int(44),\n",
        "'Orthopedics-Reconstructive':int(43),\n",
        "'Osteopath':int(42),\n",
        "'Otolaryngology':int(41),\n",
        "'Outreach Services':int(40),\n",
        "'Pathology':int(39),\n",
        "'Pediatrics':int(38),\n",
        "'Pediatrics-Allergy and Immunology':int(37),\n",
        "'Pediatrics-Critical Care':int(36),\n",
        "'Pediatrics-Emergency Medicine':int(35),\n",
        "'Pediatrics-Endocrinology':int(34),\n",
        "'Pediatrics-Hematology-Oncology':int(33),\n",
        "'Pediatrics-Infectious Diseases':int(32),\n",
        "'Pediatrics-Neurology':int(31),\n",
        "'Pediatrics-Pulmonology':int(30),\n",
        "'Perinatology':int(),\n",
        "'Physical Medicine and Rehabilitation':int(29),\n",
        "'Podiatry':int(28),\n",
        "'Proctology':int(27),\n",
        "'Psychiatry':int(26),\n",
        "'Psychiatry-Addictive':int(25),\n",
        "'Psychiatry-Child/Adolescent':int(24),\n",
        "'Psychsology':int(23),\n",
        "'Pulmonology':int(22),\n",
        "'Radiologist':int(21),\n",
        "'Radiology':int(20),\n",
        "'Resident':int(19),\n",
        "'Rheumatology':int(18),\n",
        "'Speeches':int(17),\n",
        "'Sports Medicine':int(16),\n",
        "'Surgeon':int(15),\n",
        "'Surgery-Cardiovascular':int(14),\n",
        "'Surgery-Cardiovascular/Thoracic':int(13),\n",
        "'Surgery-Colon & Rectal':int(12),\n",
        "'Surgery-General':int(11),\n",
        "'Surgery-Maxillofacial':int(10),\n",
        "'Surgery-Neuro':int(9),\n",
        "'Surgery-Pediatric':int(8),\n",
        "'Surgery-Plastic':int(7),\n",
        "'Surgery-Plastic within Head and Neck':int(6),\n",
        "'Surgery-Thoracic':int(5),\n",
        "'Surgery-Vascular':int(4),\n",
        "'Surgical Specialty':int(3),\n",
        "'Urology':int(2),\n",
        "'PhysicianNotFound':int(1),\n",
        "'Null' :int(0),})\n",
        "\n",
        "#max_glu_serum\n",
        "df['max_glu_serum'] = df['max_glu_serum'].map({\n",
        "    '>300' :int(3),\n",
        "    '>200' :int(2),\n",
        "    'Norm':int(1),\n",
        "    'None' :int(0),})\n",
        "\n",
        "#diabetes med\n",
        "df['diabetes_med'] = df['diabetes_med'].map({\n",
        "    'Yes':int(1), \n",
        "    'No':int(0)})\n",
        "\n",
        "#diabetes med change\n",
        "df['diabetes_med_change'] = df['diabetes_med_change'].map({\n",
        "    'Yes':int(1), \n",
        "    'No':int(0)})\n",
        "\n",
        "#readmitted\n",
        "df['readmitted'] = df['readmitted'].map({\n",
        "    '<30' :int(2),\n",
        "    '>30' :int(1),\n",
        "    'No' :int(0),})\n",
        "\n",
        "# metformin\n",
        "df['metformin'] = df['metformin'].map({\n",
        "    'Down' :int(3),\n",
        "    'Up' :int(2),\n",
        "    'Steaddy' :int(1),\n",
        "    'Up' :int(0),})\n",
        "\n",
        "# insulin\n",
        "df['insulin'] = df['insulin'].map({\n",
        "    'Down' :int(3),\n",
        "    'Up' :int(2),\n",
        "    'Steaddy' :int(1),\n",
        "    'Up' :int(0),})"
      ],
      "execution_count": null,
      "outputs": []
    },
    {
      "cell_type": "code",
      "metadata": {
        "id": "h6Kti_Dd0DeG"
      },
      "source": [
        ""
      ],
      "execution_count": null,
      "outputs": []
    },
    {
      "cell_type": "code",
      "metadata": {
        "id": "ZLuF11mF0DeG"
      },
      "source": [
        "df.head()"
      ],
      "execution_count": null,
      "outputs": []
    },
    {
      "cell_type": "code",
      "metadata": {
        "scrolled": true,
        "id": "v3eju0ED0DeH"
      },
      "source": [
        "df.drop(['metformin'], axis=1)"
      ],
      "execution_count": null,
      "outputs": []
    },
    {
      "cell_type": "code",
      "metadata": {
        "id": "Ab1Q89aE0DeH"
      },
      "source": [
        "df.drop(['insulin'], axis=1)"
      ],
      "execution_count": null,
      "outputs": []
    },
    {
      "cell_type": "code",
      "metadata": {
        "scrolled": true,
        "id": "b0i7qtZj0DeI"
      },
      "source": [
        "df.drop(['medical_specialty'], axis=1)"
      ],
      "execution_count": null,
      "outputs": []
    },
    {
      "cell_type": "code",
      "metadata": {
        "id": "WCEIuO0L0DeI"
      },
      "source": [
        "df.drop(['medical_specialty'], axis=1)"
      ],
      "execution_count": null,
      "outputs": []
    },
    {
      "cell_type": "code",
      "metadata": {
        "id": "QZv_viUq0DeI"
      },
      "source": [
        "df.drop(['sex'], axis=1)"
      ],
      "execution_count": null,
      "outputs": []
    },
    {
      "cell_type": "code",
      "metadata": {
        "id": "xmPYh1Ff0DeJ"
      },
      "source": [
        "X = df.drop(['readmitted'], axis = 1)\n",
        "y = df.pop('readmitted')"
      ],
      "execution_count": null,
      "outputs": []
    },
    {
      "cell_type": "code",
      "metadata": {
        "id": "SN95wT2f0DeJ"
      },
      "source": [
        "X = X.fillna(X.mean())\n",
        "y = y.fillna(y.mean())"
      ],
      "execution_count": null,
      "outputs": []
    },
    {
      "cell_type": "code",
      "metadata": {
        "id": "Tf8YsDOfp8cF"
      },
      "source": [
        "X_train, X_test, y_train, y_test = train_test_split(X, y, test_size=0.30, random_state=1)"
      ],
      "execution_count": null,
      "outputs": []
    },
    {
      "cell_type": "code",
      "metadata": {
        "id": "53oAwIlEp-Z0",
        "scrolled": true
      },
      "source": [
        "## Scaling data\n",
        "sc = StandardScaler()\n",
        "\n",
        "X_train = sc.fit_transform(X_train)\n",
        "X_test = sc.transform(X_test)"
      ],
      "execution_count": null,
      "outputs": []
    },
    {
      "cell_type": "code",
      "metadata": {
        "id": "Es1AD4Dy0DeK"
      },
      "source": [
        ""
      ],
      "execution_count": null,
      "outputs": []
    },
    {
      "cell_type": "code",
      "metadata": {
        "id": "dF7FVC4R0DeK"
      },
      "source": [
        "X.count()"
      ],
      "execution_count": null,
      "outputs": []
    },
    {
      "cell_type": "code",
      "metadata": {
        "id": "0PQWRQAqp_LK"
      },
      "source": [
        "from sklearn.linear_model import LogisticRegression\n",
        "\n",
        "LR_model = LogisticRegression(max_iter=11000)\n",
        "\n",
        "# fit the model\n",
        "\n",
        "LR_model.fit(X_train, y_train)\n",
        "\n",
        "y_predict_LR = LR_model.predict(X_test)\n",
        "\n",
        "# model score\n",
        "predict_train_LR = LR_model.predict(X_train)\n",
        "predict_test_LR = LR_model.predict(X_test)\n",
        "\n",
        "# accuracy score\n",
        "LR_train_score = LR_model.score(X_train,y_train)\n",
        "LR_test_score = LR_model.score(X_test,y_test)\n",
        "\n",
        "# f1-score\n",
        "LR_f1_score = metrics.f1_score(y_test,predict_test_LR,pos_label=1, average=None)\n",
        "LR_recall = metrics.recall_score(y_test,predict_test_LR,pos_label=1, average=None)\n",
        "\n",
        "print('Accuracy on Train set',LR_train_score)\n",
        "print('Accuracy on Test set',LR_test_score)\n",
        "print('F1-score on Test set:',LR_f1_score)\n",
        "print(metrics.classification_report(y_test, predict_test_LR))"
      ],
      "execution_count": null,
      "outputs": []
    },
    {
      "cell_type": "code",
      "metadata": {
        "id": "1MJeWtYW0DeK"
      },
      "source": [
        "df.info()"
      ],
      "execution_count": null,
      "outputs": []
    },
    {
      "cell_type": "markdown",
      "metadata": {
        "id": "hQy4ntPP0DeL"
      },
      "source": [
        "# Cluster Algorithm Analysis "
      ]
    },
    {
      "cell_type": "code",
      "metadata": {
        "scrolled": true,
        "id": "OrKpvj4D0DeL"
      },
      "source": [
        "\n",
        "# check scikit-learn version\n",
        "import sklearn\n",
        "print(sklearn.__version__)"
      ],
      "execution_count": null,
      "outputs": []
    },
    {
      "cell_type": "markdown",
      "metadata": {
        "id": "187sopJE0DeL"
      },
      "source": [
        "\n",
        "\n",
        "```\n",
        "# This is formatted as code\n",
        "```\n",
        "\n",
        "In this  chart, it shows the scatter plot chart to present a K means Cluster\n",
        "By making the features into clusters that may relate to one another, we can see the how close or far relationship between the variables are from one another"
      ]
    },
    {
      "cell_type": "code",
      "metadata": {
        "id": "3LAT-rkk0DeL"
      },
      "source": [
        "from sklearn.datasets.samples_generator import make_blobs\n",
        "X, y = make_blobs(n_samples=1000, centers=20,\n",
        "                  random_state=0, cluster_std=0.90)\n",
        "print(X.shape, y.shape)\n",
        "\n",
        "plt.scatter(X[:, 0], X[:, 1], s=20);\n",
        "\n",
        "from sklearn.cluster import KMeans\n",
        "ktest = KMeans(n_clusters=3) #number of clusters to predict 3\n",
        "ktest.fit(X) #fitting the model to X\n",
        "y_pred = ktest.predict(X) #predicting labels (y) and saving to y_pred\n",
        "\n",
        "#Plotting predicted labels as a scatter\n",
        "plt.scatter(X[:,0], X[:,1], c=y_pred)"
      ],
      "execution_count": null,
      "outputs": []
    },
    {
      "cell_type": "markdown",
      "metadata": {
        "id": "PF0sVjHy0DeM"
      },
      "source": [
        "Decision Tree Classifer & Random Forest"
      ]
    },
    {
      "cell_type": "code",
      "metadata": {
        "id": "LrpDYIgP0DeM"
      },
      "source": [
        "from sklearn.tree import DecisionTreeClassifier \n",
        "\n",
        "DT_model= DecisionTreeClassifier() \n",
        "\n",
        "# fit the model \n",
        "DT_model.fit(X_train,y_train)\n",
        "\n",
        "# model score \n",
        "predict_train_DT = DT_model.predict(X_train) \n",
        "predict_test_DT = DT_model.predict(X_test) \n",
        "\n",
        "# accuracy Score \n",
        "DT_train_score = DT_model.score(X_train,y_train) \n",
        "DT_test_score = DT_model.score(X_test,y_test)\n",
        "\n",
        "# f1-score \n",
        "\n",
        "\n",
        "# DT_f1_score = metrics.fl_score(y_test, predict_test_DT)\n",
        "\n",
        "\n",
        "\n",
        "print('Accuracy on Train set',DT_train_score) \n",
        "print('Accuracy on Test set',DT_test_score) \n",
        "# print('F1-score on Test set:',DT_f1_score) \n",
        "print('\\n') \n",
        "print (metrics.classification_report(y_test, predict_test_DT))\n"
      ],
      "execution_count": null,
      "outputs": []
    },
    {
      "cell_type": "code",
      "metadata": {
        "id": "BCLblKs50DeM"
      },
      "source": [
        ""
      ],
      "execution_count": null,
      "outputs": []
    },
    {
      "cell_type": "code",
      "metadata": {
        "id": "qCN2lOD20DeM"
      },
      "source": [
        "from sklearn.ensemble import RandomForestClassifier \n",
        "\n",
        "#create object model \n",
        "RF_model = RandomForestClassifier() \n",
        "\n",
        "#fit the model \n",
        "RF_model.fit(X_train,y_train) \n",
        "\n",
        "# model score\n",
        "predict_train_RF = RF_model.predict (X_train) \n",
        "predict_test_RF = RF_model.predict(X_test) \n",
        "\n",
        "#accuracy score \n",
        "RF_train_score = RF_model.score(X_train,y_train) \n",
        "RF_test_score = RF_model.score(X_test,y_test) \n",
        "\n",
        "#f1-score \n",
        "# RF_f1_score = metrics.fl_score(y_test,predict_test_RF) \n",
        "\n",
        "print('Accuracy on Train set',RF_train_score) \n",
        "print('Accuracy on Test set',RF_test_score) \n",
        "print('\\n') \n",
        "print (metrics.classification_report(y_test, predict_test_RF))\n"
      ],
      "execution_count": null,
      "outputs": []
    },
    {
      "cell_type": "code",
      "metadata": {
        "id": "XudzUxBs0DeN"
      },
      "source": [
        ""
      ],
      "execution_count": null,
      "outputs": []
    }
  ]
}